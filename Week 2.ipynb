{
  "nbformat": 4,
  "nbformat_minor": 0,
  "metadata": {
    "colab": {
      "name": "Exercise2-Question.ipynb",
      "provenance": [],
      "collapsed_sections": [],
      "toc_visible": true
    },
    "kernelspec": {
      "display_name": "Python 3",
      "name": "python3"
    }
  },
  "cells": [
    {
      "cell_type": "code",
      "metadata": {
        "id": "zX4Kg8DUTKWO",
        "colab_type": "code",
        "colab": {}
      },
      "source": [
        "#@title Licensed under the Apache License, Version 2.0 (the \"License\");\n",
        "# you may not use this file except in compliance with the License.\n",
        "# You may obtain a copy of the License at\n",
        "#\n",
        "# https://www.apache.org/licenses/LICENSE-2.0\n",
        "#\n",
        "# Unless required by applicable law or agreed to in writing, software\n",
        "# distributed under the License is distributed on an \"AS IS\" BASIS,\n",
        "# WITHOUT WARRANTIES OR CONDITIONS OF ANY KIND, either express or implied.\n",
        "# See the License for the specific language governing permissions and\n",
        "# limitations under the License."
      ],
      "execution_count": 0,
      "outputs": []
    },
    {
      "cell_type": "markdown",
      "metadata": {
        "id": "bzvTUbX1zCQn",
        "colab_type": "text"
      },
      "source": [
        "Week 2\n",
        "Quiz\n",
        "\n",
        "1. What’s the name of the dataset of Fashion images used in this week’s code?\n",
        "\n",
        "a. Fashion Data\n",
        "\n",
        "b. Fashion MN\n",
        "\n",
        "c. Fashion Tensors\n",
        "\n",
        "d. Fashion MNIST\n",
        "\n",
        "Answer: d. Fashion MNIST\n",
        "\n",
        "2. What do the above mentioned Images look like?\n",
        "\n",
        "a. 28x28 Color\n",
        "\n",
        "b. 82x82 Greyscale\n",
        "\n",
        "c. 28x28 Greyscale\n",
        "\n",
        "d. 100x100 Color\n",
        "\n",
        "Answer: c. 28x28 Greyscale\n",
        "\n",
        "3. How many images are in the Fashion MNIST dataset?\n",
        "\n",
        "a. 42\n",
        "\n",
        "b. 70,000\n",
        "\n",
        "c. 60,000\n",
        "\n",
        "d. 10,000\n",
        "\n",
        "Answer: b. 70,000\n",
        "\n",
        "4. Why are there 10 output neurons?\n",
        "\n",
        "a. To make it train 10x faster\n",
        "\n",
        "b. Purely arbitrary\n",
        "\n",
        "c. To make it classify 10x faster\n",
        "\n",
        "d. There are 10 different labels\n",
        "\n",
        "Answer: d. There are 10 different labels\n",
        "\n",
        "5. What does Relu do?\n",
        "\n",
        "a. It only returns x if x is greater than zero\n",
        "\n",
        "b. It returns the negative of x\n",
        "\n",
        "c. It only returns x if x is less than zero\n",
        "\n",
        "d. For a value x, it returns 1/x\n",
        "\n",
        "Answer: a. It only returns x if x is greater than zero\n",
        "\n",
        "6. Why do you split data into training and test sets?\n",
        "\n",
        "a. To test a network with previously unseen data\n",
        "\n",
        "b. To make training quicker\n",
        "\n",
        "c. To train a network with previously unseen data\n",
        "\n",
        "d. To make testing quicker\n",
        "\n",
        "Answer: a. To test a network with previously unseen data\n",
        "\n",
        "7. What method gets called when an epoch finishes?\n",
        "\n",
        "a. on_epoch_end\n",
        "\n",
        "b. on_end\n",
        "\n",
        "c. On_training_complete\n",
        "\n",
        "d. on_epoch_finished\n",
        "\n",
        "Answer: a. on_epoch_end\n",
        "\n",
        "8. What parameter to you set in your fit function to tell it to use callbacks?\n",
        "\n",
        "a. callback=\n",
        "\n",
        "b. oncallback=\n",
        "\n",
        "c. callbacks=\n",
        "\n",
        "d. oncallbacks=\n",
        "\n",
        "Answer: c. callbacks=\n"
      ]
    },
    {
      "cell_type": "markdown",
      "metadata": {
        "colab_type": "text",
        "id": "tOoyQ70H00_s"
      },
      "source": [
        "## Exercise 2\n",
        "In the course you learned how to do classification using Fashion MNIST, a data set containing items of clothing. There's another, similar dataset called MNIST which has items of handwriting -- the digits 0 through 9.\n",
        "\n",
        "Write an MNIST classifier that trains to 99% accuracy or above, and does it without a fixed number of epochs -- i.e. you should stop training once you reach that level of accuracy.\n",
        "\n",
        "Some notes:\n",
        "1. It should succeed in less than 10 epochs, so it is okay to change epochs to 10, but nothing larger\n",
        "2. When it reaches 99% or greater it should print out the string \"Reached 99% accuracy so cancelling training!\"\n",
        "3. If you add any additional variables, make sure you use the same names as the ones used in the class\n",
        "\n",
        "I've started the code for you below -- how would you finish it? "
      ]
    },
    {
      "cell_type": "code",
      "metadata": {
        "colab_type": "code",
        "id": "9rvXQGAA0ssC",
        "colab": {
          "base_uri": "https://localhost:8080/",
          "height": 374
        },
        "outputId": "42d4930b-9e4e-4191-a70e-337704978698"
      },
      "source": [
        "\n",
        "import tensorflow as tf\n",
        "mnist = tf.keras.datasets.mnist\n",
        "\n",
        "# YOUR CODE SHOULD START HERE\n",
        "class StopCallback(tf.keras.callbacks.Callback):\n",
        "  def on_epoch_end(self, epoch, logs={}):\n",
        "    if logs.get('acc') is not None and (logs.get('acc')>0.99):\n",
        "      print('\\nReached 99% accuracy so no more training.')\n",
        "      self.model.stop_training = True\n",
        "# YOUR CODE SHOULD END HERE\n",
        "\n",
        "(x_train, y_train),(x_test, y_test) = mnist.load_data()\n",
        "# YOUR CODE SHOULD START HERE\n",
        "x_train = x_train / 255.0\n",
        "x_test = x_test / 255.0\n",
        "\n",
        "callbacks = StopCallback()\n",
        "# YOUR CODE SHOULD END HERE\n",
        "model = tf.keras.models.Sequential([\n",
        "# YOUR CODE SHOULD START HERE\n",
        "  tf.keras.layers.Flatten(input_shape=(28, 28)),\n",
        "  tf.keras.layers.Dense(512, activation=tf.nn.relu),\n",
        "  tf.keras.layers.Dense(10, activation=tf.nn.softmax)\n",
        "# YOUR CODE SHOULD END HERE\n",
        "])\n",
        "\n",
        "model.compile(optimizer='adam',\n",
        "              loss='sparse_categorical_crossentropy',\n",
        "              metrics=['accuracy'])\n",
        "\n",
        "# YOUR CODE SHOULD START HERE\n",
        "model.fit(x_train, y_train, epochs=10, callbacks=[callbacks])\n",
        "# YOUR CODE SHOULD END HERE"
      ],
      "execution_count": 14,
      "outputs": [
        {
          "output_type": "stream",
          "text": [
            "Epoch 1/10\n",
            "1875/1875 [==============================] - 7s 4ms/step - loss: 0.1987 - accuracy: 0.9407\n",
            "Epoch 2/10\n",
            "1875/1875 [==============================] - 7s 4ms/step - loss: 0.0815 - accuracy: 0.9747\n",
            "Epoch 3/10\n",
            "1875/1875 [==============================] - 7s 4ms/step - loss: 0.0513 - accuracy: 0.9843\n",
            "Epoch 4/10\n",
            "1875/1875 [==============================] - 7s 4ms/step - loss: 0.0357 - accuracy: 0.9886\n",
            "Epoch 5/10\n",
            "1875/1875 [==============================] - 7s 4ms/step - loss: 0.0271 - accuracy: 0.9914\n",
            "Epoch 6/10\n",
            "1875/1875 [==============================] - 7s 4ms/step - loss: 0.0210 - accuracy: 0.9928\n",
            "Epoch 7/10\n",
            "1875/1875 [==============================] - 7s 4ms/step - loss: 0.0159 - accuracy: 0.9947\n",
            "Epoch 8/10\n",
            "1875/1875 [==============================] - 7s 4ms/step - loss: 0.0140 - accuracy: 0.9954\n",
            "Epoch 9/10\n",
            "1875/1875 [==============================] - 7s 4ms/step - loss: 0.0121 - accuracy: 0.9960\n",
            "Epoch 10/10\n",
            "1875/1875 [==============================] - 7s 4ms/step - loss: 0.0106 - accuracy: 0.9967\n"
          ],
          "name": "stdout"
        },
        {
          "output_type": "execute_result",
          "data": {
            "text/plain": [
              "<tensorflow.python.keras.callbacks.History at 0x7f40f876a160>"
            ]
          },
          "metadata": {
            "tags": []
          },
          "execution_count": 14
        }
      ]
    }
  ]
}